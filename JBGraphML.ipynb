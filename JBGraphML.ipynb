{
  "nbformat": 4,
  "nbformat_minor": 0,
  "metadata": {
    "kernelspec": {
      "display_name": "Python 3",
      "language": "python",
      "name": "python3"
    },
    "language_info": {
      "codemirror_mode": {
        "name": "ipython",
        "version": 3
      },
      "file_extension": ".py",
      "mimetype": "text/x-python",
      "name": "python",
      "nbconvert_exporter": "python",
      "pygments_lexer": "ipython3",
      "version": "3.6.9"
    },
    "colab": {
      "name": "JBGraphML.ipynb",
      "provenance": []
    },
    "accelerator": "GPU"
  },
  "cells": [
    {
      "cell_type": "markdown",
      "metadata": {
        "id": "8QcIUEfx0664"
      },
      "source": [
        "# Link prediction на датасете fb15k237"
      ]
    },
    {
      "cell_type": "markdown",
      "metadata": {
        "id": "aI2DZK8g0667"
      },
      "source": [
        "Я буду использовать алгоритм DistMult из библиотеки StellarGraph. Кроме того в ней из коробки доступен датасет fb15k237.\n",
        "\n",
        "В качестве метрик качества я буду использовать MRR и Hits at 10 посчитанные по отфильтрованной выборке, то есть когда известные ребра игнорируются при подсчете рангов."
      ]
    },
    {
      "cell_type": "markdown",
      "metadata": {
        "id": "pJnAHXKD7ids"
      },
      "source": [
        "Установим все зависимости и библиотеки."
      ]
    },
    {
      "cell_type": "code",
      "metadata": {
        "nbsphinx": "hidden",
        "tags": [
          "CloudRunner"
        ],
        "id": "xbQhtc380668"
      },
      "source": [
        "# install StellarGraph if running on Google Colab\n",
        "import sys\n",
        "if 'google.colab' in sys.modules:\n",
        "  %pip install -q stellargraph[demos]==1.2.1"
      ],
      "execution_count": 1,
      "outputs": []
    },
    {
      "cell_type": "code",
      "metadata": {
        "nbsphinx": "hidden",
        "tags": [
          "VersionCheck"
        ],
        "id": "_ZrrMRYE0668"
      },
      "source": [
        "# verify that we're using the correct version of StellarGraph for this notebook\n",
        "import stellargraph as sg\n",
        "\n",
        "try:\n",
        "    sg.utils.validate_notebook_version(\"1.2.1\")\n",
        "except AttributeError:\n",
        "    raise ValueError(\n",
        "        f\"This notebook requires StellarGraph version 1.2.1, but a different version {sg.__version__} is installed.  Please see <https://github.com/stellargraph/stellargraph/issues/1172>.\"\n",
        "    ) from None"
      ],
      "execution_count": 2,
      "outputs": []
    },
    {
      "cell_type": "code",
      "metadata": {
        "id": "HsoVWFxH0669"
      },
      "source": [
        "from stellargraph import datasets, utils\n",
        "from tensorflow.keras import callbacks, optimizers, losses, metrics, regularizers, Model\n",
        "import numpy as np\n",
        "import pandas as pd\n",
        "\n",
        "from stellargraph.mapper import KGTripleGenerator\n",
        "from stellargraph.layer import DistMult\n",
        "\n",
        "from IPython.display import HTML"
      ],
      "execution_count": 3,
      "outputs": []
    },
    {
      "cell_type": "markdown",
      "metadata": {
        "id": "yqVt37Fv066-"
      },
      "source": [
        "## Скачаем данные\n",
        "\n",
        "Датасет можно получить сразу же с разбиенем на train, test и val, каждый набор состоит из троек subject, relation, object."
      ]
    },
    {
      "cell_type": "code",
      "metadata": {
        "colab": {
          "base_uri": "https://localhost:8080/",
          "height": 68
        },
        "id": "xhh8AQ0t8tTl",
        "outputId": "aa3278db-5b21-467e-a81b-bc767d3830c9"
      },
      "source": [
        "fb15k_237 = datasets.FB15k_237()\n",
        "display(HTML(fb15k_237.description))\n",
        "fb15k_237_graph, fb15k_237_train, fb15k_237_test, fb15k_237_valid = fb15k_237.load()"
      ],
      "execution_count": 4,
      "outputs": [
        {
          "output_type": "display_data",
          "data": {
            "text/html": [
              "This FREEBASE FB15k DATA consists of a collection of triplets (synset, relation_type, triplet)extracted from Freebase (http://www.freebase.com). There are 14541 nodes and 237 relation types among them. The training set contains 272115 triplets, the validation set 17535 and the test set 20466.It is a reduced version of FB15k where inverse relations have been removed.Kristina Toutanova and Danqi Chen “Observed versus latent features for knowledge base and text inference” (2015)."
            ],
            "text/plain": [
              "<IPython.core.display.HTML object>"
            ]
          },
          "metadata": {}
        }
      ]
    },
    {
      "cell_type": "markdown",
      "metadata": {
        "id": "e2OoXGTg9BDo"
      },
      "source": [
        "Посмотрим на описание датасета."
      ]
    },
    {
      "cell_type": "code",
      "metadata": {
        "colab": {
          "base_uri": "https://localhost:8080/"
        },
        "id": "fPvQsDs789QO",
        "outputId": "d8af37a7-7a4a-44f4-945d-44700dfb8822"
      },
      "source": [
        "print(fb15k_237_graph.info())"
      ],
      "execution_count": 5,
      "outputs": [
        {
          "output_type": "stream",
          "name": "stdout",
          "text": [
            "StellarDiGraph: Directed multigraph\n",
            " Nodes: 14541, Edges: 310116\n",
            "\n",
            " Node types:\n",
            "  default: [14541]\n",
            "    Features: none\n",
            "    Edge types: default-/american_football/football_team/current_roster./sports/sports_team_roster/position->default, default-/award/award_category/category_of->default, default-/award/award_category/disciplines_or_subjects->default, default-/award/award_category/nominees./award/award_nomination/nominated_for->default, default-/award/award_category/winners./award/award_honor/award_winner->default, ... (232 more)\n",
            "\n",
            " Edge types:\n",
            "    default-/award/award_nominee/award_nominations./award/award_nomination/award_nominee->default: [16391]\n",
            "        Weights: all 1 (default)\n",
            "        Features: none\n",
            "    default-/film/film/release_date_s./film/film_regional_release_date/film_release_region->default: [15568]\n",
            "        Weights: all 1 (default)\n",
            "        Features: none\n",
            "    default-/award/award_nominee/award_nominations./award/award_nomination/award->default: [14051]\n",
            "        Weights: all 1 (default)\n",
            "        Features: none\n",
            "    default-/people/person/profession->default: [13382]\n",
            "        Weights: all 1 (default)\n",
            "        Features: none\n",
            "    default-/award/award_category/nominees./award/award_nomination/nominated_for->default: [11069]\n",
            "        Weights: all 1 (default)\n",
            "        Features: none\n",
            "    default-/film/actor/film./film/performance/film->default: [11045]\n",
            "        Weights: all 1 (default)\n",
            "        Features: none\n",
            "    default-/film/film/genre->default: [8649]\n",
            "        Weights: all 1 (default)\n",
            "        Features: none\n",
            "    default-/award/award_winner/awards_won./award/award_honor/award_winner->default: [8491]\n",
            "        Weights: all 1 (default)\n",
            "        Features: none\n",
            "    default-/music/genre/artists->default: [7134]\n",
            "        Weights: all 1 (default)\n",
            "        Features: none\n",
            "    default-/award/award_nominee/award_nominations./award/award_nomination/nominated_for->default: [6483]\n",
            "        Weights: all 1 (default)\n",
            "        Features: none\n",
            "    default-/film/film/other_crew./film/film_crew_gig/film_crew_role->default: [6445]\n",
            "        Weights: all 1 (default)\n",
            "        Features: none\n",
            "    default-/award/award_category/winners./award/award_honor/award_winner->default: [6070]\n",
            "        Weights: all 1 (default)\n",
            "        Features: none\n",
            "    default-/location/location/contains->default: [5834]\n",
            "        Weights: all 1 (default)\n",
            "        Features: none\n",
            "    default-/people/person/nationality->default: [5097]\n",
            "        Weights: all 1 (default)\n",
            "        Features: none\n",
            "    default-/people/person/gender->default: [4530]\n",
            "        Weights: all 1 (default)\n",
            "        Features: none\n",
            "    default-/common/topic/webpage./common/webpage/category->default: [4364]\n",
            "        Weights: all 1 (default)\n",
            "        Features: none\n",
            "    default-/people/person/places_lived./people/place_lived/location->default: [4275]\n",
            "        Weights: all 1 (default)\n",
            "        Features: none\n",
            "    default-/music/performance_role/track_performances./music/track_contribution/role->default: [3887]\n",
            "        Weights: all 1 (default)\n",
            "        Features: none\n",
            "    default-/people/person/spouse_s./people/marriage/type_of_union->default: [3557]\n",
            "        Weights: all 1 (default)\n",
            "        Features: none\n",
            "    default-/sports/sports_position/players./sports/sports_team_roster/team->default: [3551]\n",
            "        Weights: all 1 (default)\n",
            "        Features: none\n",
            "    ... (217 more)\n"
          ]
        }
      ]
    },
    {
      "cell_type": "markdown",
      "metadata": {
        "id": "71I-ma0V066_"
      },
      "source": [
        "## Тренируем модель"
      ]
    },
    {
      "cell_type": "markdown",
      "metadata": {
        "id": "XRGvaCRc9X7j"
      },
      "source": [
        "Я прочитал в примерах из документации DistMult как лучше инициализировать параметры модели."
      ]
    },
    {
      "cell_type": "code",
      "metadata": {
        "id": "ZOKv9SoR9hpo"
      },
      "source": [
        "epochs = 100\n",
        "embedding_dimension = 100\n",
        "negative_samples = 2"
      ],
      "execution_count": 8,
      "outputs": []
    },
    {
      "cell_type": "code",
      "metadata": {
        "id": "s10Gq6zv066_"
      },
      "source": [
        "fb15k_237_gen = KGTripleGenerator(\n",
        "    fb15k_237_graph, batch_size=len(fb15k_237_train) // 10  # ~100 бачей на одну эпоху\n",
        ")\n",
        "\n",
        "fb15k_237_distmult = DistMult(\n",
        "    fb15k_237_gen,\n",
        "    embedding_dimension=embedding_dimension,\n",
        "    embeddings_regularizer=regularizers.l2(1e-8),\n",
        ")\n",
        "\n",
        "fb15k_237_inp, fb15k_237_out = fb15k_237_distmult.in_out_tensors()\n",
        "\n",
        "fb15k_237_model = Model(inputs=fb15k_237_inp, outputs=fb15k_237_out)\n",
        "fb15k_237_model.compile(\n",
        "    optimizer=optimizers.Adam(learning_rate=0.001),\n",
        "    loss=losses.BinaryCrossentropy(from_logits=True),\n",
        "    metrics=[metrics.BinaryAccuracy(threshold=0.0)],\n",
        ")"
      ],
      "execution_count": 10,
      "outputs": []
    },
    {
      "cell_type": "markdown",
      "metadata": {
        "id": "zv-AU6iG067A"
      },
      "source": [
        "Входы для тренировки создаются методом `KGTripleGenerator.flow`, он принимает Pandas DataFrame с колонками `source`, `label` и `target`, в котором каждая строчка - это известное true ребро в графе. Параметр `negative_samples` отвечает за то, сколько случайных ребер генерируется для каждого положительного ребра, чтобы использовать их как negative samples во время тренировки."
      ]
    },
    {
      "cell_type": "code",
      "metadata": {
        "id": "ScsVSu6H067A"
      },
      "source": [
        "fb15k_237_train_gen = fb15k_237_gen.flow(\n",
        "    fb15k_237_train, negative_samples=negative_samples, shuffle=True\n",
        ")\n",
        "fb15k_237_valid_gen = fb15k_237_gen.flow(fb15k_237_valid, negative_samples=negative_samples)"
      ],
      "execution_count": 11,
      "outputs": []
    },
    {
      "cell_type": "markdown",
      "metadata": {
        "id": "E5yD9S8Y-2ea"
      },
      "source": [
        "Обучаем модель."
      ]
    },
    {
      "cell_type": "code",
      "metadata": {
        "id": "-iJCx6Ro067A"
      },
      "source": [
        "fb15k_237_es = callbacks.EarlyStopping(monitor=\"val_loss\", patience=50)\n",
        "fb15k_237_history = fb15k_237_model.fit(\n",
        "    fb15k_237_train_gen,\n",
        "    validation_data=fb15k_237_valid_gen,\n",
        "    epochs=epochs,\n",
        "    callbacks=[fb15k_237_es],\n",
        "    verbose=0,\n",
        ")"
      ],
      "execution_count": 12,
      "outputs": []
    },
    {
      "cell_type": "markdown",
      "metadata": {
        "id": "aumP095E-_oh"
      },
      "source": [
        "Визуализируем процесс обучения."
      ]
    },
    {
      "cell_type": "code",
      "metadata": {
        "id": "e5ZQvfSG067B",
        "colab": {
          "base_uri": "https://localhost:8080/",
          "height": 585
        },
        "outputId": "294ca1ac-d363-4e19-aa30-69a87591ff2d"
      },
      "source": [
        "utils.plot_history(fb15k_237_history)"
      ],
      "execution_count": 13,
      "outputs": [
        {
          "output_type": "display_data",
          "data": {
            "image/png": "[encoded data removed]",
            "text/plain": [
              "<Figure size 504x576 with 2 Axes>"
            ]
          },
          "metadata": {
            "needs_background": "light"
          }
        }
      ]
    },
    {
      "cell_type": "markdown",
      "metadata": {
        "id": "1RjHFJ7-067B"
      },
      "source": [
        "## Инференс модели\n",
        "\n",
        "Мы натренировали модель, теперь можно ее применить. Мы будем для каждого ребра из теста `E = (h, l, t)` сравнивать его скор со скорами для всех \"мутированных\" ребер `(h', l, t)` и `(h, l, t')`. \"Сырой\" ранг - это количество \"мутированных\" ребер, у которых предсказанный скор выше чем у настоящего `E`."
      ]
    },
    {
      "cell_type": "code",
      "metadata": {
        "id": "XD8SVPmA067B"
      },
      "source": [
        "fb15k_237_smaller_gen = KGTripleGenerator(fb15k_237_graph, batch_size=5000)\n",
        "\n",
        "fb15k_237_raw_ranks, fb15k_237_filtered_ranks = fb15k_237_distmult.rank_edges_against_all_nodes(\n",
        "    fb15k_237_smaller_gen.flow(fb15k_237_test), fb15k_237_graph\n",
        ")"
      ],
      "execution_count": 14,
      "outputs": []
    },
    {
      "cell_type": "markdown",
      "metadata": {
        "id": "ZNzD9HBECVpa"
      },
      "source": [
        "Вспомогательная функция, чтобы посчитать метрики по массиву рангов."
      ]
    },
    {
      "cell_type": "code",
      "metadata": {
        "id": "Lai_cRLL067B"
      },
      "source": [
        "def results_as_dataframe(mrr, hits_at_10):\n",
        "    return pd.DataFrame(\n",
        "        [(mrr, hits_at_10)], columns=[\"mrr\", \"hits at 10\"], index=[\"filtered\"],\n",
        "    )\n",
        "\n",
        "def summarise(ranks):\n",
        "    return results_as_dataframe(np.mean(1 / ranks), np.mean(ranks <= 10))"
      ],
      "execution_count": 15,
      "outputs": []
    },
    {
      "cell_type": "markdown",
      "metadata": {
        "id": "e9t0tKUzCiIg"
      },
      "source": [
        "Результаты."
      ]
    },
    {
      "cell_type": "code",
      "metadata": {
        "id": "oVnJ_qQc067B",
        "colab": {
          "base_uri": "https://localhost:8080/",
          "height": 80
        },
        "outputId": "fa8c7c04-9e32-4654-9150-8950efe1d020"
      },
      "source": [
        "summarise(fb15k_237_filtered_ranks)"
      ],
      "execution_count": 17,
      "outputs": [
        {
          "output_type": "execute_result",
          "data": {
            "text/html": [
              "<div>\n",
              "<style scoped>\n",
              "    .dataframe tbody tr th:only-of-type {\n",
              "        vertical-align: middle;\n",
              "    }\n",
              "\n",
              "    .dataframe tbody tr th {\n",
              "        vertical-align: top;\n",
              "    }\n",
              "\n",
              "    .dataframe thead th {\n",
              "        text-align: right;\n",
              "    }\n",
              "</style>\n",
              "<table border=\"1\" class=\"dataframe\">\n",
              "  <thead>\n",
              "    <tr style=\"text-align: right;\">\n",
              "      <th></th>\n",
              "      <th>mrr</th>\n",
              "      <th>hits at 10</th>\n",
              "    </tr>\n",
              "  </thead>\n",
              "  <tbody>\n",
              "    <tr>\n",
              "      <th>filtered</th>\n",
              "      <td>0.124625</td>\n",
              "      <td>0.235586</td>\n",
              "    </tr>\n",
              "  </tbody>\n",
              "</table>\n",
              "</div>"
            ],
            "text/plain": [
              "               mrr  hits at 10\n",
              "filtered  0.124625    0.235586"
            ]
          },
          "metadata": {},
          "execution_count": 17
        }
      ]
    },
    {
      "cell_type": "markdown",
      "metadata": {
        "id": "Aanb5C5kE_gk"
      },
      "source": [
        "Результаты мягко говоря не очень:(\n",
        "    \n",
        "Тем не менее с задачей обучить модель я справился."
      ]
    }
  ]
}